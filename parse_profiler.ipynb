{
 "cells": [
  {
   "cell_type": "code",
   "execution_count": 9,
   "metadata": {},
   "outputs": [
    {
     "name": "stdout",
     "output_type": "stream",
     "text": [
      "Average Forward duration: 72ms 853μs\n",
      "Average Backward duration: 87ms 61μs\n"
     ]
    }
   ],
   "source": [
    "import json\n",
    "from statistics import mean\n",
    "\n",
    "def load_trace(file_path):\n",
    "    with open(file_path, 'r') as f:\n",
    "        return json.load(f)\n",
    "\n",
    "def get_formatted_durations(trace_data):\n",
    "    forward_durations = []\n",
    "    backward_durations = []\n",
    "    \n",
    "    for event in trace_data['traceEvents']:\n",
    "        if 'name' in event and 'dur' in event:\n",
    "            if event['name'] == \"nanotron/parallel/pipeline_parallel/engine.py(26): forward\":\n",
    "                forward_durations.append(event['dur'])\n",
    "            elif event['name'] == \"nanotron/parallel/pipeline_parallel/engine.py(67): backward\":\n",
    "                backward_durations.append(event['dur'])\n",
    "    \n",
    "    def format_duration(duration):\n",
    "        ms = duration // 1000\n",
    "        us = duration % 1000\n",
    "        return f\"{ms}ms {us}μs\"\n",
    "    \n",
    "    return {\n",
    "        \"forward\": format_duration(int(mean(forward_durations))),\n",
    "        \"backward\": format_duration(int(mean(backward_durations)))\n",
    "    }\n",
    "\n",
    "# Load and analyze the trace\n",
    "trace_file_path = '/fsx/ferdinandmom/ferdinand-hf/bench_cluster/results/llama-1B/8_GPUS/dp-1_tp-1_pp-1_mbz-1/20240624-092049/ip-26-0-163-220_1055475.1719220860453569001.pt.trace.json'\n",
    "trace_data = load_trace(trace_file_path)\n",
    "durations = get_formatted_durations(trace_data)\n",
    "\n",
    "print(\"Average Forward duration:\", durations[\"forward\"])\n",
    "print(\"Average Backward duration:\", durations[\"backward\"])"
   ]
  },
  {
   "cell_type": "code",
   "execution_count": 10,
   "metadata": {},
   "outputs": [
    {
     "name": "stdout",
     "output_type": "stream",
     "text": [
      "Communication time: 563010 microseconds\n",
      "Computation time: 110993888 microseconds\n",
      "Communication ratio: 0.50%\n",
      "Computation ratio: 99.50%\n",
      "Communication to Computation ratio: 0.01\n"
     ]
    }
   ],
   "source": [
    "def analyze_communication_vs_computation(trace_data):\n",
    "    comm_time = 0\n",
    "    comp_time = 0\n",
    "    comm_events = [\n",
    "        'ncclRecv', 'ncclSend', \n",
    "        'ncclDevKernel_Send', 'ncclDevKernel_Recv',\n",
    "        'ncclAllReduce', 'ncclReduceScatter', 'ncclAllGather',\n",
    "        'ncclBroadcast', 'ncclReduce',\n",
    "        'cudaMemcpyAsync', 'cudaMemcpy',  # Include memory transfers\n",
    "        'nccl', 'comm'  # Generic communication keywords\n",
    "    ]\n",
    "    \n",
    "    for event in trace_data['traceEvents']:\n",
    "        if 'dur' in event and 'name' in event:\n",
    "            duration = event['dur']\n",
    "            name = event['name'].lower()  # Convert to lowercase for case-insensitive matching\n",
    "            \n",
    "            if any(comm_event.lower() in name for comm_event in comm_events):\n",
    "                comm_time += duration\n",
    "            else:\n",
    "                comp_time += duration\n",
    "    \n",
    "    total_time = comm_time + comp_time\n",
    "    comm_ratio = comm_time / total_time if total_time > 0 else 0\n",
    "    comp_ratio = comp_time / total_time if total_time > 0 else 0\n",
    "    \n",
    "    return {\n",
    "        'communication_time': comm_time,\n",
    "        'computation_time': comp_time,\n",
    "        'communication_ratio': comm_ratio,\n",
    "        'computation_ratio': comp_ratio\n",
    "    }\n",
    "\n",
    "# Load and analyze the trace\n",
    "trace_file_path = '/fsx/ferdinandmom/ferdinand-hf/bench_cluster/results/llama-1B/8_GPUS/dp-1_tp-2_pp-2_mbz-256/20240624-095924/ip-26-0-163-220_1136603.1719223186534915479.pt.trace.json'\n",
    "trace_data = load_trace(trace_file_path)\n",
    "results = analyze_communication_vs_computation(trace_data)\n",
    "\n",
    "print(f\"Communication time: {results['communication_time']} microseconds\")\n",
    "print(f\"Computation time: {results['computation_time']} microseconds\")\n",
    "print(f\"Communication ratio: {results['communication_ratio']:.2%}\")\n",
    "print(f\"Computation ratio: {results['computation_ratio']:.2%}\")\n",
    "print(f\"Communication to Computation ratio: {results['communication_time'] / results['computation_time']:.2f}\")"
   ]
  },
  {
   "cell_type": "code",
   "execution_count": null,
   "metadata": {},
   "outputs": [],
   "source": []
  }
 ],
 "metadata": {
  "kernelspec": {
   "display_name": "Python 3",
   "language": "python",
   "name": "python3"
  },
  "language_info": {
   "codemirror_mode": {
    "name": "ipython",
    "version": 3
   },
   "file_extension": ".py",
   "mimetype": "text/x-python",
   "name": "python",
   "nbconvert_exporter": "python",
   "pygments_lexer": "ipython3",
   "version": "3.10.14"
  }
 },
 "nbformat": 4,
 "nbformat_minor": 2
}
